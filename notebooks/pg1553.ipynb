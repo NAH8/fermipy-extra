{
 "metadata": {
  "kernelspec": {
   "display_name": "Python 2",
   "language": "python",
   "name": "python2"
  },
  "language_info": {
   "codemirror_mode": {
    "name": "ipython",
    "version": 2
   },
   "file_extension": ".py",
   "mimetype": "text/x-python",
   "name": "python",
   "nbconvert_exporter": "python",
   "pygments_lexer": "ipython2",
   "version": "2.7.11"
  },
  "name": ""
 },
 "nbformat": 3,
 "nbformat_minor": 0,
 "worksheets": [
  {
   "cells": [
    {
     "cell_type": "heading",
     "level": 1,
     "metadata": {},
     "source": [
      "Likelihood Analysis with fermipy"
     ]
    },
    {
     "cell_type": "markdown",
     "metadata": {},
     "source": [
      "The python likelihood tools are a very powerful set of analysis tools that expand upon the command line tools provided with the Fermi Science Tools package. Not only can you perform all of the same likelihood analysis with the python tools that you can with the standard command line tools but you can directly access all of the model parameters. You can more easily script a standard analysis. There are also a few things built into the python tools that are not available from the command line like the calculation of upper limits.\n",
      "\n",
      "There are many user contributed packages built upon the python backbone of the Science Tools and this thread will highlight the use of the [fermipy](http://fermipy.readthedocs.org) package.\n",
      "\n",
      "This sample analysis is based on the PG 1553+113 analysis performed by the LAT team and described in [Abdo, A. A. et al. 2010, ApJ, 708, 1310](http://adsabs.harvard.edu/abs/2010ApJ...708.1310A) and closely follows the [Likelihood Analysis with Python](http://fermi.gsfc.nasa.gov/ssc/data/analysis/scitools/python_tutorial.html) thread.  This tutorial assumes you have the most recent ScienceTools installed and [fermipy](http://fermipy.readthedocs.org) installed on top of it.  For instructions on installing fermipy and the Fermi ScienceTools you should consult the [fermipy Installation Instructions](http://fermipy.readthedocs.org/en/latest/install.html).  We will also make significant use of python, so you might want to familiarize yourself with python including matplotlib and other libraries (there's a beginner's guide at http://wiki.python.org/moin/BeginnersGuide). This tutorial also assumes that you've gone through the non-python based [Unbinned Likelihood Tutorial](http://fermi.gsfc.nasa.gov/ssc/data/analysis/scitools/likelihood_tutorial.html).  "
     ]
    },
    {
     "cell_type": "heading",
     "level": 2,
     "metadata": {},
     "source": [
      "Get the Data"
     ]
    },
    {
     "cell_type": "markdown",
     "metadata": {},
     "source": [
      "For this thread the original data were extracted from the [LAT data server](http://fermi.gsfc.nasa.gov/cgi-bin/ssc/LAT/LATDataQuery.cgi) with the following selections (these selections are similar to those in the paper):\n",
      "\n",
      "* Search Center (RA,Dec) = (238.929,11.1901)\n",
      "* Radius = 30 degrees\n",
      "* Start Time (MET) = 239557417 seconds (2008-08-04T15:43:37)\n",
      "* Stop Time (MET) = 256970880 seconds (2009-02-22T04:48:00)\n",
      "* Minimum Energy = 100 MeV\n",
      "* Maximum Energy = 300000 MeV\n",
      "\n",
      "Once you exectute the query you can download the data and put it in your working directory.  You'll need to change the names of the files to match the filenames that the data server gave you.  Alternatively you can run with the following tarball which already contains the downloaded files as well as all of the ancillary files that will be generated for the analysis.  In this example the output of the analysis will go into a subdirectory called *pg1553*."
     ]
    },
    {
     "cell_type": "code",
     "collapsed": false,
     "input": [
      "import os\n",
      "if os.path.isfile('../data/pg1553.tar.gz'):\n",
      "    !tar xzf ../data/pg1553.tar.gz\n",
      "else:\n",
      "    !curl -OL https://raw.githubusercontent.com/fermiPy/fermipy-extras/master/data/pg1553.tar.gz\n",
      "    !tar xzf pg1553.tar.gz"
     ],
     "language": "python",
     "metadata": {},
     "outputs": [],
     "prompt_number": 1
    },
    {
     "cell_type": "markdown",
     "metadata": {},
     "source": [
      "If you would like to download the raw data files used in this analysis (FT1 and FT2) you can do so by executing the following cell."
     ]
    },
    {
     "cell_type": "code",
     "collapsed": false,
     "input": [
      "!curl -o pg1553/L1504241622054B65347F25_PH00.fits http://fermi.gsfc.nasa.gov/ssc/data/analysis/scitools/data/pyLikelihood/L1504241622054B65347F25_PH00.fits\n",
      "!curl -o pg1553/L1504241622054B65347F25_PH01.fits http://fermi.gsfc.nasa.gov/ssc/data/analysis/scitools/data/pyLikelihood/L1504241622054B65347F25_PH01.fits\n",
      "!curl -o pg1553/L1504241622054B65347F25_SC00.fits http://fermi.gsfc.nasa.gov/ssc/data/analysis/scitools/data/pyLikelihood/L1504241622054B65347F25_SC00.fits"
     ],
     "language": "python",
     "metadata": {},
     "outputs": [
      {
       "output_type": "stream",
       "stream": "stdout",
       "text": [
        "  % Total    % Received % Xferd  Average Speed   Time    Time     Time  Current\r\n",
        "                                 Dload  Upload   Total   Spent    Left  Speed\r\n",
        "\r",
        "  0     0    0     0    0     0      0      0 --:--:-- --:--:-- --:--:--     0"
       ]
      },
      {
       "output_type": "stream",
       "stream": "stdout",
       "text": [
        "\r",
        "  2 10.6M    2  300k    0     0   316k      0  0:00:34 --:--:--  0:00:34  357k"
       ]
      },
      {
       "output_type": "stream",
       "stream": "stdout",
       "text": [
        "\r",
        "  9 10.6M    9 1067k    0     0   545k      0  0:00:19  0:00:01  0:00:18  577k"
       ]
      },
      {
       "output_type": "stream",
       "stream": "stdout",
       "text": [
        "\r",
        " 16 10.6M   16 1831k    0     0   618k      0  0:00:17  0:00:02  0:00:15  642k"
       ]
      },
      {
       "output_type": "stream",
       "stream": "stdout",
       "text": [
        "\r",
        " 23 10.6M   23 2597k    0     0   655k      0  0:00:16  0:00:03  0:00:13  674k"
       ]
      },
      {
       "output_type": "stream",
       "stream": "stdout",
       "text": [
        "\r",
        " 30 10.6M   30 3365k    0     0   677k      0  0:00:16  0:00:04  0:00:12  693k"
       ]
      },
      {
       "output_type": "stream",
       "stream": "stdout",
       "text": [
        "\r",
        " 37 10.6M   37 4133k    0     0   692k      0  0:00:15  0:00:05  0:00:10  764k"
       ]
      },
      {
       "output_type": "stream",
       "stream": "stdout",
       "text": [
        "\r",
        " 44 10.6M   44 4901k    0     0   703k      0  0:00:15  0:00:06  0:00:09  765k"
       ]
      },
      {
       "output_type": "stream",
       "stream": "stdout",
       "text": [
        "\r",
        " 52 10.6M   52 5669k    0     0   711k      0  0:00:15  0:00:07  0:00:08  765k"
       ]
      },
      {
       "output_type": "stream",
       "stream": "stdout",
       "text": [
        "\r",
        " 59 10.6M   59 6437k    0     0   717k      0  0:00:15  0:00:08  0:00:07  767k"
       ]
      },
      {
       "output_type": "stream",
       "stream": "stdout",
       "text": [
        "\r",
        " 66 10.6M   66 7205k    0     0   722k      0  0:00:15  0:00:09  0:00:06  767k"
       ]
      },
      {
       "output_type": "stream",
       "stream": "stdout",
       "text": [
        "\r",
        " 73 10.6M   73 7971k    0     0   726k      0  0:00:15  0:00:10  0:00:05  766k"
       ]
      },
      {
       "output_type": "stream",
       "stream": "stdout",
       "text": [
        "\r",
        " 80 10.6M   80 8739k    0     0   729k      0  0:00:14  0:00:11  0:00:03  766k"
       ]
      },
      {
       "output_type": "stream",
       "stream": "stdout",
       "text": [
        "\r",
        " 87 10.6M   87 9499k    0     0   736k      0  0:00:14  0:00:12  0:00:02  776k"
       ]
      },
      {
       "output_type": "stream",
       "stream": "stdout",
       "text": [
        "\r",
        " 93 10.6M   93  9.9M    0     0   734k      0  0:00:14  0:00:13  0:00:01  764k"
       ]
      },
      {
       "output_type": "stream",
       "stream": "stdout",
       "text": [
        "\r",
        "100 10.6M  100 10.6M    0     0   738k      0  0:00:14  0:00:14 --:--:--  772k\r\n"
       ]
      },
      {
       "output_type": "stream",
       "stream": "stdout",
       "text": [
        "  % Total    % Received % Xferd  Average Speed   Time    Time     Time  Current\r\n",
        "                                 Dload  Upload   Total   Spent    Left  Speed\r\n",
        "\r",
        "  0     0    0     0    0     0      0      0 --:--:-- --:--:-- --:--:--     0"
       ]
      },
      {
       "output_type": "stream",
       "stream": "stdout",
       "text": [
        "\r",
        "  3 14.0M    3  432k    0     0   514k      0  0:00:27 --:--:--  0:00:27  515k"
       ]
      },
      {
       "output_type": "stream",
       "stream": "stdout",
       "text": [
        "\r",
        "  8 14.0M    8 1200k    0     0   652k      0  0:00:21  0:00:01  0:00:20  653k"
       ]
      },
      {
       "output_type": "stream",
       "stream": "stdout",
       "text": [
        "\r",
        " 13 14.0M   13 1968k    0     0   692k      0  0:00:20  0:00:02  0:00:18  693k"
       ]
      },
      {
       "output_type": "stream",
       "stream": "stdout",
       "text": [
        "\r",
        " 19 14.0M   19 2735k    0     0   717k      0  0:00:19  0:00:03  0:00:16  717k"
       ]
      },
      {
       "output_type": "stream",
       "stream": "stdout",
       "text": [
        "\r",
        " 24 14.0M   24 3502k    0     0   723k      0  0:00:19  0:00:04  0:00:15  723k"
       ]
      },
      {
       "output_type": "stream",
       "stream": "stdout",
       "text": [
        "\r",
        " 29 14.0M   29 4270k    0     0   731k      0  0:00:19  0:00:05  0:00:14  767k"
       ]
      },
      {
       "output_type": "stream",
       "stream": "stdout",
       "text": [
        "\r",
        " 35 14.0M   35 5038k    0     0   736k      0  0:00:19  0:00:06  0:00:13  767k"
       ]
      },
      {
       "output_type": "stream",
       "stream": "stdout",
       "text": [
        "\r",
        " 40 14.0M   40 5806k    0     0   740k      0  0:00:19  0:00:07  0:00:12  767k"
       ]
      },
      {
       "output_type": "stream",
       "stream": "stdout",
       "text": [
        "\r",
        " 45 14.0M   45 6574k    0     0   743k      0  0:00:19  0:00:08  0:00:11  763k"
       ]
      },
      {
       "output_type": "stream",
       "stream": "stdout",
       "text": [
        "\r",
        " 51 14.0M   51 7342k    0     0   746k      0  0:00:19  0:00:09  0:00:10  768k"
       ]
      },
      {
       "output_type": "stream",
       "stream": "stdout",
       "text": [
        "\r",
        " 56 14.0M   56 8110k    0     0   748k      0  0:00:19  0:00:10  0:00:09  768k"
       ]
      },
      {
       "output_type": "stream",
       "stream": "stdout",
       "text": [
        "\r",
        " 61 14.0M   61 8876k    0     0   752k      0  0:00:19  0:00:11  0:00:08  773k"
       ]
      },
      {
       "output_type": "stream",
       "stream": "stdout",
       "text": [
        "\r",
        " 66 14.0M   66 9587k    0     0   748k      0  0:00:19  0:00:12  0:00:07  762k"
       ]
      },
      {
       "output_type": "stream",
       "stream": "stdout",
       "text": [
        "\r",
        " 72 14.0M   72 10.1M    0     0   750k      0  0:00:19  0:00:13  0:00:06  761k"
       ]
      },
      {
       "output_type": "stream",
       "stream": "stdout",
       "text": [
        "\r",
        " 77 14.0M   77 10.8M    0     0   751k      0  0:00:19  0:00:14  0:00:05  761k"
       ]
      },
      {
       "output_type": "stream",
       "stream": "stdout",
       "text": [
        "\r",
        " 82 14.0M   82 11.6M    0     0   752k      0  0:00:19  0:00:15  0:00:04  761k"
       ]
      },
      {
       "output_type": "stream",
       "stream": "stdout",
       "text": [
        "\r",
        " 88 14.0M   88 12.3M    0     0   753k      0  0:00:19  0:00:16  0:00:03  755k"
       ]
      },
      {
       "output_type": "stream",
       "stream": "stdout",
       "text": [
        "\r",
        " 93 14.0M   93 13.0M    0     0   753k      0  0:00:19  0:00:17  0:00:02  765k"
       ]
      },
      {
       "output_type": "stream",
       "stream": "stdout",
       "text": [
        "\r",
        " 97 14.0M   97 13.6M    0     0   741k      0  0:00:19  0:00:18  0:00:01  716k"
       ]
      },
      {
       "output_type": "stream",
       "stream": "stdout",
       "text": [
        "\r",
        "100 14.0M  100 14.0M    0     0   726k      0  0:00:19  0:00:19 --:--:--  652k\r\n"
       ]
      },
      {
       "output_type": "stream",
       "stream": "stdout",
       "text": [
        "  % Total    % Received % Xferd  Average Speed   Time    Time     Time  Current\r\n",
        "                                 Dload  Upload   Total   Spent    Left  Speed\r\n",
        "\r",
        "  0     0    0     0    0     0      0      0 --:--:-- --:--:-- --:--:--     0"
       ]
      },
      {
       "output_type": "stream",
       "stream": "stdout",
       "text": [
        "\r",
        "  0 70.9M    0  363k    0     0   474k      0  0:02:33 --:--:--  0:02:33  475k"
       ]
      },
      {
       "output_type": "stream",
       "stream": "stdout",
       "text": [
        "\r",
        "  1 70.9M    1 1132k    0     0   640k      0  0:01:53  0:00:01  0:01:52  640k"
       ]
      },
      {
       "output_type": "stream",
       "stream": "stdout",
       "text": [
        "\r",
        "  2 70.9M    2 1898k    0     0   685k      0  0:01:45  0:00:02  0:01:43  686k"
       ]
      },
      {
       "output_type": "stream",
       "stream": "stdout",
       "text": [
        "\r",
        "  3 70.9M    3 2666k    0     0   707k      0  0:01:42  0:00:03  0:01:39  707k"
       ]
      },
      {
       "output_type": "stream",
       "stream": "stdout",
       "text": [
        "\r",
        "  4 70.9M    4 3434k    0     0   719k      0  0:01:41  0:00:04  0:01:37  719k"
       ]
      },
      {
       "output_type": "stream",
       "stream": "stdout",
       "text": [
        "\r",
        "  5 70.9M    5 4195k    0     0   730k      0  0:01:39  0:00:05  0:01:34  769k"
       ]
      },
      {
       "output_type": "stream",
       "stream": "stdout",
       "text": [
        "\r",
        "  6 70.9M    6 4948k    0     0   738k      0  0:01:38  0:00:06  0:01:32  773k"
       ]
      },
      {
       "output_type": "stream",
       "stream": "stdout",
       "text": [
        "\r",
        "  7 70.9M    7 5700k    0     0   740k      0  0:01:38  0:00:07  0:01:31  770k"
       ]
      },
      {
       "output_type": "stream",
       "stream": "stdout",
       "text": [
        "\r",
        "  8 70.9M    8 6433k    0     0   739k      0  0:01:38  0:00:08  0:01:30  763k"
       ]
      },
      {
       "output_type": "stream",
       "stream": "stdout",
       "text": [
        "\r",
        "  9 70.9M    9 7188k    0     0   740k      0  0:01:38  0:00:09  0:01:29  761k"
       ]
      },
      {
       "output_type": "stream",
       "stream": "stdout",
       "text": [
        "\r",
        " 10 70.9M   10 7950k    0     0   742k      0  0:01:37  0:00:10  0:01:27  756k"
       ]
      },
      {
       "output_type": "stream",
       "stream": "stdout",
       "text": [
        "\r",
        " 11 70.9M   11 8716k    0     0   744k      0  0:01:37  0:00:11  0:01:26  752k"
       ]
      },
      {
       "output_type": "stream",
       "stream": "stdout",
       "text": [
        "\r",
        " 13 70.9M   13 9476k    0     0   745k      0  0:01:37  0:00:12  0:01:25  754k"
       ]
      },
      {
       "output_type": "stream",
       "stream": "stdout",
       "text": [
        "\r",
        " 14 70.9M   14 10.0M    0     0   748k      0  0:01:37  0:00:13  0:01:24  763k"
       ]
      },
      {
       "output_type": "stream",
       "stream": "stdout",
       "text": [
        "\r",
        " 15 70.9M   15 10.7M    0     0   748k      0  0:01:37  0:00:14  0:01:23  762k"
       ]
      },
      {
       "output_type": "stream",
       "stream": "stdout",
       "text": [
        "\r",
        " 16 70.9M   16 11.4M    0     0   749k      0  0:01:37  0:00:15  0:01:22  762k"
       ]
      },
      {
       "output_type": "stream",
       "stream": "stdout",
       "text": [
        "\r",
        " 17 70.9M   17 12.2M    0     0   750k      0  0:01:36  0:00:16  0:01:20  763k"
       ]
      },
      {
       "output_type": "stream",
       "stream": "stdout",
       "text": [
        "\r",
        " 18 70.9M   18 12.9M    0     0   751k      0  0:01:36  0:00:17  0:01:19  765k"
       ]
      },
      {
       "output_type": "stream",
       "stream": "stdout",
       "text": [
        "\r",
        " 19 70.9M   19 13.7M    0     0   751k      0  0:01:36  0:00:18  0:01:18  762k"
       ]
      },
      {
       "output_type": "stream",
       "stream": "stdout",
       "text": [
        "\r",
        " 20 70.9M   20 14.4M    0     0   752k      0  0:01:36  0:00:19  0:01:17  764k"
       ]
      },
      {
       "output_type": "stream",
       "stream": "stdout",
       "text": [
        "\r",
        " 21 70.9M   21 15.2M    0     0   753k      0  0:01:36  0:00:20  0:01:16  765k"
       ]
      },
      {
       "output_type": "stream",
       "stream": "stdout",
       "text": [
        "\r",
        " 22 70.9M   22 15.9M    0     0   753k      0  0:01:36  0:00:21  0:01:15  765k"
       ]
      },
      {
       "output_type": "stream",
       "stream": "stdout",
       "text": [
        "\r",
        " 23 70.9M   23 16.7M    0     0   754k      0  0:01:36  0:00:22  0:01:14  765k"
       ]
      },
      {
       "output_type": "stream",
       "stream": "stdout",
       "text": [
        "\r",
        " 24 70.9M   24 17.4M    0     0   750k      0  0:01:36  0:00:23  0:01:13  744k"
       ]
      },
      {
       "output_type": "stream",
       "stream": "stdout",
       "text": [
        "\r",
        " 24 70.9M   24 17.6M    0     0   731k      0  0:01:39  0:00:24  0:01:15  650k"
       ]
      },
      {
       "output_type": "stream",
       "stream": "stdout",
       "text": [
        "\r",
        " 25 70.9M   25 18.3M    0     0   729k      0  0:01:39  0:00:25  0:01:14  630k"
       ]
      },
      {
       "output_type": "stream",
       "stream": "stdout",
       "text": [
        "\r",
        " 26 70.9M   26 18.6M    0     0   713k      0  0:01:41  0:00:26  0:01:15  541k"
       ]
      },
      {
       "output_type": "stream",
       "stream": "stdout",
       "text": [
        "\r",
        " 27 70.9M   27 19.2M    0     0   709k      0  0:01:42  0:00:27  0:01:15  506k"
       ]
      },
      {
       "output_type": "stream",
       "stream": "stdout",
       "text": [
        "\r",
        " 28 70.9M   28 19.9M    0     0   711k      0  0:01:42  0:00:28  0:01:14  523k"
       ]
      },
      {
       "output_type": "stream",
       "stream": "stdout",
       "text": [
        "\r",
        " 29 70.9M   29 20.6M    0     0   712k      0  0:01:41  0:00:29  0:01:12  619k"
       ]
      },
      {
       "output_type": "stream",
       "stream": "stdout",
       "text": [
        "\r",
        " 29 70.9M   29 21.1M    0     0   703k      0  0:01:43  0:00:30  0:01:13  573k"
       ]
      },
      {
       "output_type": "stream",
       "stream": "stdout",
       "text": [
        "\r",
        " 30 70.9M   30 21.5M    0     0   696k      0  0:01:44  0:00:31  0:01:13  604k"
       ]
      },
      {
       "output_type": "stream",
       "stream": "stdout",
       "text": [
        "\r",
        " 31 70.9M   31 22.2M    0     0   697k      0  0:01:44  0:00:32  0:01:12  628k"
       ]
      },
      {
       "output_type": "stream",
       "stream": "stdout",
       "text": [
        "\r",
        " 32 70.9M   32 23.0M    0     0   699k      0  0:01:43  0:00:33  0:01:10  632k"
       ]
      },
      {
       "output_type": "stream",
       "stream": "stdout",
       "text": [
        "\r",
        " 33 70.9M   33 23.7M    0     0   701k      0  0:01:43  0:00:34  0:01:09  632k"
       ]
      },
      {
       "output_type": "stream",
       "stream": "stdout",
       "text": [
        "\r",
        " 34 70.9M   34 24.4M    0     0   702k      0  0:01:43  0:00:35  0:01:08  693k"
       ]
      },
      {
       "output_type": "stream",
       "stream": "stdout",
       "text": [
        "\r",
        " 35 70.9M   35 25.2M    0     0   703k      0  0:01:43  0:00:36  0:01:07  749k"
       ]
      },
      {
       "output_type": "stream",
       "stream": "stdout",
       "text": [
        "\r",
        " 36 70.9M   36 25.9M    0     0   705k      0  0:01:43  0:00:37  0:01:06  760k"
       ]
      },
      {
       "output_type": "stream",
       "stream": "stdout",
       "text": [
        "\r",
        " 37 70.9M   37 26.7M    0     0   707k      0  0:01:42  0:00:38  0:01:04  760k"
       ]
      },
      {
       "output_type": "stream",
       "stream": "stdout",
       "text": [
        "\r",
        " 38 70.9M   38 27.4M    0     0   708k      0  0:01:42  0:00:39  0:01:03  759k"
       ]
      },
      {
       "output_type": "stream",
       "stream": "stdout",
       "text": [
        "\r",
        " 39 70.9M   39 28.2M    0     0   710k      0  0:01:42  0:00:40  0:01:02  766k"
       ]
      },
      {
       "output_type": "stream",
       "stream": "stdout",
       "text": [
        "\r",
        " 40 70.9M   40 28.9M    0     0   711k      0  0:01:42  0:00:41  0:01:01  765k"
       ]
      },
      {
       "output_type": "stream",
       "stream": "stdout",
       "text": [
        "\r",
        " 41 70.9M   41 29.7M    0     0   712k      0  0:01:42  0:00:42  0:01:00  763k"
       ]
      },
      {
       "output_type": "stream",
       "stream": "stdout",
       "text": [
        "\r",
        " 42 70.9M   42 30.4M    0     0   713k      0  0:01:41  0:00:43  0:00:58  761k"
       ]
      },
      {
       "output_type": "stream",
       "stream": "stdout",
       "text": [
        "\r",
        " 43 70.9M   43 31.2M    0     0   714k      0  0:01:41  0:00:44  0:00:57  762k"
       ]
      },
      {
       "output_type": "stream",
       "stream": "stdout",
       "text": [
        "\r",
        " 45 70.9M   45 31.9M    0     0   715k      0  0:01:41  0:00:45  0:00:56  760k"
       ]
      },
      {
       "output_type": "stream",
       "stream": "stdout",
       "text": [
        "\r",
        " 46 70.9M   46 32.7M    0     0   716k      0  0:01:41  0:00:46  0:00:55  758k"
       ]
      },
      {
       "output_type": "stream",
       "stream": "stdout",
       "text": [
        "\r",
        " 47 70.9M   47 33.4M    0     0   717k      0  0:01:41  0:00:47  0:00:54  760k"
       ]
      },
      {
       "output_type": "stream",
       "stream": "stdout",
       "text": [
        "\r",
        " 48 70.9M   48 34.1M    0     0   718k      0  0:01:41  0:00:48  0:00:53  760k"
       ]
      },
      {
       "output_type": "stream",
       "stream": "stdout",
       "text": [
        "\r",
        " 49 70.9M   49 34.9M    0     0   719k      0  0:01:41  0:00:49  0:00:52  758k"
       ]
      },
      {
       "output_type": "stream",
       "stream": "stdout",
       "text": [
        "\r",
        " 50 70.9M   50 35.6M    0     0   720k      0  0:01:40  0:00:50  0:00:50  764k"
       ]
      },
      {
       "output_type": "stream",
       "stream": "stdout",
       "text": [
        "\r",
        " 51 70.9M   51 36.4M    0     0   720k      0  0:01:40  0:00:51  0:00:49  759k"
       ]
      },
      {
       "output_type": "stream",
       "stream": "stdout",
       "text": [
        "\r",
        " 52 70.9M   52 37.1M    0     0   721k      0  0:01:40  0:00:52  0:00:48  759k"
       ]
      },
      {
       "output_type": "stream",
       "stream": "stdout",
       "text": [
        "\r",
        " 53 70.9M   53 37.9M    0     0   722k      0  0:01:40  0:00:53  0:00:47  761k"
       ]
      },
      {
       "output_type": "stream",
       "stream": "stdout",
       "text": [
        "\r",
        " 54 70.9M   54 38.6M    0     0   723k      0  0:01:40  0:00:54  0:00:46  762k"
       ]
      },
      {
       "output_type": "stream",
       "stream": "stdout",
       "text": [
        "\r",
        " 55 70.9M   55 39.4M    0     0   723k      0  0:01:40  0:00:55  0:00:45  759k"
       ]
      },
      {
       "output_type": "stream",
       "stream": "stdout",
       "text": [
        "\r",
        " 56 70.9M   56 40.1M    0     0   724k      0  0:01:40  0:00:56  0:00:44  766k"
       ]
      },
      {
       "output_type": "stream",
       "stream": "stdout",
       "text": [
        "\r",
        " 57 70.9M   57 40.9M    0     0   726k      0  0:01:40  0:00:57  0:00:43  777k"
       ]
      },
      {
       "output_type": "stream",
       "stream": "stdout",
       "text": [
        "\r",
        " 58 70.9M   58 41.6M    0     0   726k      0  0:01:40  0:00:58  0:00:42  769k"
       ]
      },
      {
       "output_type": "stream",
       "stream": "stdout",
       "text": [
        "\r",
        " 59 70.9M   59 42.3M    0     0   726k      0  0:01:40  0:00:59  0:00:41  765k"
       ]
      },
      {
       "output_type": "stream",
       "stream": "stdout",
       "text": [
        "\r",
        " 60 70.9M   60 43.1M    0     0   727k      0  0:01:39  0:01:00  0:00:39  763k"
       ]
      },
      {
       "output_type": "stream",
       "stream": "stdout",
       "text": [
        "\r",
        " 61 70.9M   61 43.8M    0     0   727k      0  0:01:39  0:01:01  0:00:38  762k"
       ]
      },
      {
       "output_type": "stream",
       "stream": "stdout",
       "text": [
        "\r",
        " 62 70.9M   62 44.6M    0     0   728k      0  0:01:39  0:01:02  0:00:37  752k"
       ]
      },
      {
       "output_type": "stream",
       "stream": "stdout",
       "text": [
        "\r",
        " 63 70.9M   63 45.3M    0     0   728k      0  0:01:39  0:01:03  0:00:36  759k"
       ]
      },
      {
       "output_type": "stream",
       "stream": "stdout",
       "text": [
        "\r",
        " 64 70.9M   64 46.1M    0     0   729k      0  0:01:39  0:01:04  0:00:35  762k"
       ]
      },
      {
       "output_type": "stream",
       "stream": "stdout",
       "text": [
        "\r",
        " 66 70.9M   66 46.8M    0     0   730k      0  0:01:39  0:01:05  0:00:34  764k"
       ]
      },
      {
       "output_type": "stream",
       "stream": "stdout",
       "text": [
        "\r",
        " 67 70.9M   67 47.6M    0     0   730k      0  0:01:39  0:01:06  0:00:33  765k"
       ]
      },
      {
       "output_type": "stream",
       "stream": "stdout",
       "text": [
        "\r",
        " 68 70.9M   68 48.3M    0     0   731k      0  0:01:39  0:01:07  0:00:32  765k"
       ]
      },
      {
       "output_type": "stream",
       "stream": "stdout",
       "text": [
        "\r",
        " 69 70.9M   69 49.1M    0     0   731k      0  0:01:39  0:01:08  0:00:31  766k"
       ]
      },
      {
       "output_type": "stream",
       "stream": "stdout",
       "text": [
        "\r",
        " 70 70.9M   70 49.8M    0     0   732k      0  0:01:39  0:01:09  0:00:30  766k"
       ]
      },
      {
       "output_type": "stream",
       "stream": "stdout",
       "text": [
        "\r",
        " 71 70.9M   71 50.6M    0     0   732k      0  0:01:39  0:01:10  0:00:29  766k"
       ]
      },
      {
       "output_type": "stream",
       "stream": "stdout",
       "text": [
        "\r",
        " 72 70.9M   72 51.3M    0     0   733k      0  0:01:39  0:01:11  0:00:28  766k"
       ]
      },
      {
       "output_type": "stream",
       "stream": "stdout",
       "text": [
        "\r",
        " 73 70.9M   73 52.1M    0     0   733k      0  0:01:39  0:01:12  0:00:27  772k"
       ]
      },
      {
       "output_type": "stream",
       "stream": "stdout",
       "text": [
        "\r",
        " 74 70.9M   74 52.8M    0     0   734k      0  0:01:38  0:01:13  0:00:25  772k"
       ]
      },
      {
       "output_type": "stream",
       "stream": "stdout",
       "text": [
        "\r",
        " 74 70.9M   74 53.1M    0     0   728k      0  0:01:39  0:01:14  0:00:25  675k"
       ]
      },
      {
       "output_type": "stream",
       "stream": "stdout",
       "text": [
        "\r",
        " 75 70.9M   75 53.7M    0     0   726k      0  0:01:40  0:01:15  0:00:25  636k"
       ]
      },
      {
       "output_type": "stream",
       "stream": "stdout",
       "text": [
        "\r",
        " 76 70.9M   76 54.4M    0     0   726k      0  0:01:40  0:01:16  0:00:24  629k"
       ]
      },
      {
       "output_type": "stream",
       "stream": "stdout",
       "text": [
        "\r",
        " 77 70.9M   77 55.1M    0     0   726k      0  0:01:40  0:01:17  0:00:23  624k"
       ]
      },
      {
       "output_type": "stream",
       "stream": "stdout",
       "text": [
        "\r",
        " 78 70.9M   78 55.9M    0     0   727k      0  0:01:39  0:01:18  0:00:21  624k"
       ]
      },
      {
       "output_type": "stream",
       "stream": "stdout",
       "text": [
        "\r",
        " 79 70.9M   79 56.6M    0     0   727k      0  0:01:39  0:01:19  0:00:20  719k"
       ]
      },
      {
       "output_type": "stream",
       "stream": "stdout",
       "text": [
        "\r",
        " 80 70.9M   80 57.3M    0     0   726k      0  0:01:39  0:01:20  0:00:19  736k"
       ]
      },
      {
       "output_type": "stream",
       "stream": "stdout",
       "text": [
        "\r",
        " 81 70.9M   81 57.5M    0     0   720k      0  0:01:40  0:01:21  0:00:19  632k"
       ]
      },
      {
       "output_type": "stream",
       "stream": "stdout",
       "text": [
        "\r",
        " 81 70.9M   81 57.8M    0     0   716k      0  0:01:41  0:01:22  0:00:19  548k"
       ]
      },
      {
       "output_type": "stream",
       "stream": "stdout",
       "text": [
        "\r",
        " 82 70.9M   82 58.3M    0     0   713k      0  0:01:41  0:01:23  0:00:18  495k"
       ]
      },
      {
       "output_type": "stream",
       "stream": "stdout",
       "text": [
        "\r",
        " 83 70.9M   83 59.0M    0     0   713k      0  0:01:41  0:01:24  0:00:17  485k"
       ]
      },
      {
       "output_type": "stream",
       "stream": "stdout",
       "text": [
        "\r",
        " 84 70.9M   84 59.7M    0     0   714k      0  0:01:41  0:01:25  0:00:16  506k"
       ]
      },
      {
       "output_type": "stream",
       "stream": "stdout",
       "text": [
        "\r",
        " 85 70.9M   85 60.5M    0     0   714k      0  0:01:41  0:01:26  0:00:15  621k"
       ]
      },
      {
       "output_type": "stream",
       "stream": "stdout",
       "text": [
        "\r",
        " 86 70.9M   86 61.2M    0     0   715k      0  0:01:41  0:01:27  0:00:14  704k"
       ]
      },
      {
       "output_type": "stream",
       "stream": "stdout",
       "text": [
        "\r",
        " 87 70.9M   87 62.0M    0     0   716k      0  0:01:41  0:01:28  0:00:13  756k"
       ]
      },
      {
       "output_type": "stream",
       "stream": "stdout",
       "text": [
        "\r",
        " 88 70.9M   88 62.7M    0     0   716k      0  0:01:41  0:01:29  0:00:12  766k"
       ]
      },
      {
       "output_type": "stream",
       "stream": "stdout",
       "text": [
        "\r",
        " 89 70.9M   89 63.5M    0     0   717k      0  0:01:41  0:01:30  0:00:11  767k"
       ]
      },
      {
       "output_type": "stream",
       "stream": "stdout",
       "text": [
        "\r",
        " 90 70.9M   90 64.2M    0     0   717k      0  0:01:41  0:01:31  0:00:10  760k"
       ]
      },
      {
       "output_type": "stream",
       "stream": "stdout",
       "text": [
        "\r",
        " 90 70.9M   90 64.5M    0     0   712k      0  0:01:41  0:01:32  0:00:09  666k"
       ]
      },
      {
       "output_type": "stream",
       "stream": "stdout",
       "text": [
        "\r",
        " 91 70.9M   91 65.1M    0     0   711k      0  0:01:42  0:01:33  0:00:09  638k"
       ]
      },
      {
       "output_type": "stream",
       "stream": "stdout",
       "text": [
        "\r",
        " 92 70.9M   92 65.9M    0     0   712k      0  0:01:42  0:01:34  0:00:08  638k"
       ]
      },
      {
       "output_type": "stream",
       "stream": "stdout",
       "text": [
        "\r",
        " 93 70.9M   93 66.6M    0     0   713k      0  0:01:41  0:01:35  0:00:06  638k"
       ]
      },
      {
       "output_type": "stream",
       "stream": "stdout",
       "text": [
        "\r",
        " 94 70.9M   94 67.4M    0     0   713k      0  0:01:41  0:01:36  0:00:05  644k"
       ]
      },
      {
       "output_type": "stream",
       "stream": "stdout",
       "text": [
        "\r",
        " 96 70.9M   96 68.1M    0     0   714k      0  0:01:41  0:01:37  0:00:04  738k"
       ]
      },
      {
       "output_type": "stream",
       "stream": "stdout",
       "text": [
        "\r",
        " 97 70.9M   97 68.9M    0     0   714k      0  0:01:41  0:01:38  0:00:03  767k"
       ]
      },
      {
       "output_type": "stream",
       "stream": "stdout",
       "text": [
        "\r",
        " 98 70.9M   98 69.6M    0     0   715k      0  0:01:41  0:01:39  0:00:02  767k"
       ]
      },
      {
       "output_type": "stream",
       "stream": "stdout",
       "text": [
        "\r",
        " 99 70.9M   99 70.4M    0     0   715k      0  0:01:41  0:01:40  0:00:01  766k"
       ]
      },
      {
       "output_type": "stream",
       "stream": "stdout",
       "text": [
        "\r",
        "100 70.9M  100 70.9M    0     0   716k      0  0:01:41  0:01:41 --:--:--  768k\r\n"
       ]
      }
     ],
     "prompt_number": 2
    },
    {
     "cell_type": "markdown",
     "metadata": {},
     "source": [
      "### Make a file list\n",
      "\n",
      "You'll then need to make a file list with the names of your input event files. You can either just make one with a text editor or do the following from the command line."
     ]
    },
    {
     "cell_type": "code",
     "collapsed": false,
     "input": [
      "!ls -1 pg1553/*PH*.fits > pg1553/PG1553.lst"
     ],
     "language": "python",
     "metadata": {},
     "outputs": [],
     "prompt_number": 3
    },
    {
     "cell_type": "markdown",
     "metadata": {},
     "source": [
      "## Make a config file\n",
      "\n",
      "fermipy bases its analysis on a configuration file (in [yaml](http://yaml.org) format).  We're just going to use a really simple config file for a standard analysis.  There are many many more options which you can use or you can modify these options after the fact within the analysis chain.\n",
      "\n",
      "\n",
      "Make a config file named 'config.yaml' like the following.  For more details on the config file see [config.html](http://fermipy.readthedocs.org/en/latest/config.html).  You will probably need to customize this a bit since your files might not be in the same place or named the same.  The galactic and isotropic diffuse will need to be located on your system (they are included in the science tools or can be downloaded from the FSSC).  In the following example we set the path to these files with the environment variable FERMI_DIFFUSE_DIR.  If FERMI_DIFFUSE_DIR is not defined fermipy will look for the location of these files within the FSSC STs distribution. \n",
      "\n",
      "```\n",
      "data:\n",
      "  evfile : PG1553.lst\n",
      "  scfile : L1511031432171D651E7F63_SC00.fits\n",
      "\n",
      "binning:\n",
      "  roiwidth   : 10.0\n",
      "  binsz      : 0.1\n",
      "  binsperdec : 8\n",
      "\n",
      "selection :\n",
      "  emin : 100\n",
      "  emax : 300000\n",
      "  zmax    : 90\n",
      "  evclass : 128\n",
      "  evtype  : 3\n",
      "  target : '3FGL J1555.7+1111'\n",
      "\n",
      "gtlike:\n",
      "  edisp : True\n",
      "  irfs : 'P8R2_SOURCE_V6'\n",
      "  edisp_disable : ['isodiff','galdiff']\n",
      "\n",
      "model:\n",
      "  src_roiwidth : 15.0\n",
      "  galdiff  : '$FERMI_DIFFUSE_DIR/gll_iem_v06.fits'\n",
      "  isodiff  : '$FERMI_DIFFUSE_DIR/iso_P8R2_SOURCE_V6_v06.txt'\n",
      "  catalogs : ['3FGL']\n",
      "```"
     ]
    },
    {
     "cell_type": "markdown",
     "metadata": {},
     "source": [
      "## Start the analysis\n",
      "\n",
      "Next, you create an analysis script and run the setup steps which include running the selections and generating exposure maps etc.  This will take a bit.\n",
      "\n",
      "This is where the magic happens.  fermipy will load the point source model, create your xml file for you, decide on all the appropriate cuts and binnings and just go.  All of this is configurable from python or from the config file.  And, if you need to rerun things, it's smart enough to not overwrite files if it doesn't need to."
     ]
    },
    {
     "cell_type": "heading",
     "level": 3,
     "metadata": {},
     "source": [
      "Load up some useful modules"
     ]
    },
    {
     "cell_type": "code",
     "collapsed": true,
     "input": [
      "%matplotlib inline\n",
      "import matplotlib.pyplot as plt\n",
      "import numpy as np"
     ],
     "language": "python",
     "metadata": {},
     "outputs": [],
     "prompt_number": 4
    },
    {
     "cell_type": "markdown",
     "metadata": {},
     "source": [
      "### Import the GTAnalysis module from fermipy\n",
      "\n",
      "You start by importing the module and then creating an instance of the analysis object from our config file.  When instantiating the analysis object we can override any options defined in the configuration file by passing keyword arguments to the object constructor.  Here we explicitly set the verbosity parameter to 3 (INFO) which supresses DEBUG output.  When we create the object, it spits out a bunch of information about all of the parameters that were used.  You can see there are many more options than the ones we chose."
     ]
    },
    {
     "cell_type": "code",
     "collapsed": false,
     "input": [
      "from fermipy.gtanalysis import GTAnalysis\n",
      "gta = GTAnalysis('pg1553/config.yaml',logging={'verbosity': 3})"
     ],
     "language": "python",
     "metadata": {},
     "outputs": [
      {
       "output_type": "stream",
       "stream": "stderr",
       "text": [
        "2016-04-19 15:24:55 INFO     GTAnalysis.__init__(): \n",
        "--------------------------------------------------------------------------------\n",
        "This is fermipy version 0.7.0.\n"
       ]
      }
     ],
     "prompt_number": 5
    },
    {
     "cell_type": "markdown",
     "metadata": {},
     "source": [
      "### The setup routine\n",
      "\n",
      "This gets everything ready for the likelihood analysis including instantiating the pylikelihood object.  Note that fermipy will skip generating any ancillary files that already exist in the working directory.  In the sample tarball these files have already been produced in order to speed up this stage of the analysis.  If you want to see the behavior of fermipy when running from an empty working directory you can delete one or more of these files before running *setup*."
     ]
    },
    {
     "cell_type": "code",
     "collapsed": false,
     "input": [
      "gta.setup()"
     ],
     "language": "python",
     "metadata": {
      "scrolled": false
     },
     "outputs": [
      {
       "output_type": "stream",
       "stream": "stderr",
       "text": [
        "2016-04-19 15:25:14 INFO     GTAnalysis.setup(): Running setup\n"
       ]
      },
      {
       "output_type": "stream",
       "stream": "stderr",
       "text": [
        "2016-04-19 15:25:14 INFO     GTBinnedAnalysis.setup(): Running setup for Analysis Component: 00\n"
       ]
      },
      {
       "output_type": "stream",
       "stream": "stderr",
       "text": [
        "2016-04-19 15:25:39 INFO     GTBinnedAnalysis.setup(): Finished setup for Analysis Component: 00\n"
       ]
      },
      {
       "output_type": "stream",
       "stream": "stderr",
       "text": [
        "2016-04-19 15:25:39 INFO     GTAnalysis.setup(): Initializing source properties\n"
       ]
      },
      {
       "output_type": "stream",
       "stream": "stderr",
       "text": [
        "2016-04-19 15:25:51 INFO     GTAnalysis.setup(): Finished setup\n"
       ]
      }
     ],
     "prompt_number": 6
    },
    {
     "cell_type": "markdown",
     "metadata": {},
     "source": [
      "Before proceeding with the analysis we'll have a quick look at the files that are produced by the setup function."
     ]
    },
    {
     "cell_type": "code",
     "collapsed": false,
     "input": [
      "ls pg1553/*fits"
     ],
     "language": "python",
     "metadata": {},
     "outputs": [
      {
       "output_type": "stream",
       "stream": "stdout",
       "text": [
        "pg1553/L1504241622054B65347F25_PH00.fits  pg1553/ccube_00.fits\r\n",
        "pg1553/L1504241622054B65347F25_PH01.fits  pg1553/ft1_00.fits\r\n",
        "pg1553/L1504241622054B65347F25_SC00.fits  pg1553/ltcube_00.fits\r\n",
        "pg1553/bexpmap_00.fits                    pg1553/mcube_fit0.fits\r\n",
        "pg1553/bexpmap_roi_00.fits                pg1553/mcube_fit0_00.fits\r\n",
        "pg1553/ccube.fits                         pg1553/srcmap_00.fits\r\n"
       ]
      }
     ],
     "prompt_number": 7
    },
    {
     "cell_type": "markdown",
     "metadata": {},
     "source": [
      "Here is a brief explanation of the contents of each file and its role in the analysis:\n",
      "\n",
      "* **ft1_00.fits**: Event list.  This is generated by running gtselect and gtmktime on our input file list.\n",
      "* **bexpmap_00.fits**: All-sky binned exposure map.  This map is interpolated to create an exposure model when generating the srcmap file.\n",
      "* **bexpmap_roi_00.fits**: Binned exposure map for the ROI.  This file is only provided for visualization purposes in order to have an exposure map with the same binning as the data and model maps.\n",
      "* **ccube_00.fits**: Counts cube for the ROI.\n",
      "* **ltcube_00.fits**: Livetime cube.  This contains a map of the livetime for this observation over the whole sky as a function of incidence angle.\n",
      "* **srcmap_00.fits**: Source map cube.  This file contains maps for each of the components in the ROI after convolution with exposure and the PSF.  Note that energy dispersion is applied at run-time.\n",
      "\n",
      "Note that all of the files have a numerical suffix '00'.  This is the analysis component index.  In a multi-component analysis there would be instances of all of the above files for each analysis component.  The files with no component index are co-added maps that are provided for visualization purposes.\n",
      "\n",
      "To see example of one of these files we can open and plot the counts cube file.  This is a 3D cube that contains the distribution of events as a function of energy and two spatial coordinates.  In the example below we sum over the energy dimension of the cube to make a 2-D sky image."
     ]
    },
    {
     "cell_type": "code",
     "collapsed": false,
     "input": [
      "import astropy.io.fits as pyfits\n",
      "\n",
      "h = pyfits.open('pg1553/ccube.fits')\n",
      "h.info()\n",
      "counts = h[0].data\n",
      "counts.shape\n",
      "plt.figure()\n",
      "plt.imshow(np.sum(counts,axis=0),interpolation='nearest',origin='lower')"
     ],
     "language": "python",
     "metadata": {},
     "outputs": [
      {
       "output_type": "stream",
       "stream": "stdout",
       "text": [
        "Filename: pg1553/ccube.fits\n",
        "No.    Name         Type      Cards   Dimensions   Format\n",
        "0    PRIMARY     PrimaryHDU      24   (100, 100, 28)   float64   \n"
       ]
      },
      {
       "output_type": "pyout",
       "prompt_number": 8,
       "text": [
        "<matplotlib.image.AxesImage at 0x7f42bbcb3bd0>"
       ]
      },
      {
       "output_type": "display_data",
       "png": "[encoded data removed]",
       "text": [
        "<matplotlib.figure.Figure at 0x7f42fc5ffc50>"
       ]
      }
     ],
     "prompt_number": 8
    },
    {
     "cell_type": "markdown",
     "metadata": {},
     "source": [
      "We can now inspect the state of the ROI prior with the print_roi() method."
     ]
    },
    {
     "cell_type": "code",
     "collapsed": false,
     "input": [
      "gta.print_roi()"
     ],
     "language": "python",
     "metadata": {},
     "outputs": [
      {
       "output_type": "stream",
       "stream": "stderr",
       "text": [
        "2016-04-19 15:25:52 INFO     GTAnalysis.print_roi(): \n",
        "name                SpatialModel   SpectrumType     offset        ts       Npred\n",
        "--------------------------------------------------------------------------------\n",
        "3FGL J1555.7+1111   PointSource    LogParabola       0.000       nan       923.2\n",
        "3FGL J1553.5+1256   PointSource    LogParabola       1.833       nan       655.4\n",
        "3FGL J1603.7+1106   PointSource    PowerLaw          1.976       nan       122.7\n",
        "3FGL J1552.1+0852   PointSource    PowerLaw          2.482       nan        90.2\n",
        "3FGL J1608.6+1029   PointSource    PowerLaw          3.252       nan       531.6\n",
        "3FGL J1541.8+1105   PointSource    PowerLaw          3.411       nan       155.4\n",
        "3FGL J1546.0+0818   PointSource    PowerLaw          3.753       nan        38.6\n",
        "3FGL J1548.4+1455   PointSource    PowerLaw          4.134       nan       187.8\n",
        "3FGL J1541.6+1414   PointSource    PowerLaw          4.596       nan        34.4\n",
        "3FGL J1611.9+1404   PointSource    PowerLaw          4.888       nan        81.2\n",
        "3FGL J1540.8+1449   PointSource    PowerLaw          5.146       nan        73.9\n",
        "3FGL J1607.0+1551   PointSource    PowerLaw          5.417       nan       306.7\n",
        "isodiff             DiffuseSource  FileFunction      -----       nan      4966.0\n",
        "galdiff             DiffuseSource  PowerLaw          -----       nan      8299.1\n",
        "\n"
       ]
      }
     ],
     "prompt_number": 9
    },
    {
     "cell_type": "markdown",
     "metadata": {},
     "source": [
      "Additional details about an individual source can be retrieved by printing the corresponding source object.  Here we use the bracket operator to return the properties of PG1553. "
     ]
    },
    {
     "cell_type": "code",
     "collapsed": false,
     "input": [
      "print(gta.roi['3FGL J1555.7+1111'])"
     ],
     "language": "python",
     "metadata": {},
     "outputs": [
      {
       "output_type": "stream",
       "stream": "stdout",
       "text": [
        "Name           : 3FGL J1555.7+1111\n",
        "Associations   : ['3FGL J1555.7+1111', 'PG 1553+113', '1FHL J1555.7+1111', '2FGL J1555.7+1111']\n",
        "RA/DEC         :    238.936/    11.194\n",
        "GLON/GLAT      :     21.918/    43.960\n",
        "TS             : nan\n",
        "Npred          : 923.16\n",
        "Flux           : 5.324e-08 +/-      nan\n",
        "EnergyFlux     : 0.0001344 +/-      nan\n",
        "SpatialModel   : PointSource\n",
        "SpectrumType   : LogParabola\n",
        "Spectral Parameters\n",
        "alpha          :      1.604 +/-        nan\n",
        "beta           :    0.03884 +/-        nan\n",
        "norm           :  4.825e-12 +/-        nan\n",
        "Eb             :       1491 +/-        nan\n"
       ]
      }
     ],
     "prompt_number": 10
    },
    {
     "cell_type": "markdown",
     "metadata": {},
     "source": [
      "## Do the likelihood fitting\n",
      "\n",
      "Now that all of the ancillary files have been generated, we can move on to the actual fitting.  The first thing you should do is free some of the sources since all of the sources are initially fixed.  We'll just free those sources in the center region."
     ]
    },
    {
     "cell_type": "code",
     "collapsed": false,
     "input": [
      "# Free Normalization of all Sources within 3 deg of ROI center\n",
      "gta.free_sources(distance=3.0,pars='norm')\n",
      "\n",
      "# Free all parameters of isotropic and galactic diffuse components\n",
      "gta.free_source('galdiff')\n",
      "gta.free_source('isodiff')"
     ],
     "language": "python",
     "metadata": {},
     "outputs": [],
     "prompt_number": 11
    },
    {
     "cell_type": "markdown",
     "metadata": {},
     "source": [
      "In this simple anlaysis we are leaving the spectral shapes of sources fixed but we're going to free the spectral shape of the source we care about.  "
     ]
    },
    {
     "cell_type": "code",
     "collapsed": false,
     "input": [
      "gta.free_source('3FGL J1555.7+1111')"
     ],
     "language": "python",
     "metadata": {},
     "outputs": [],
     "prompt_number": 12
    },
    {
     "cell_type": "markdown",
     "metadata": {},
     "source": [
      "Now, actually do the fit.  The software does its best to get the fit to converge by running the fit several times."
     ]
    },
    {
     "cell_type": "code",
     "collapsed": false,
     "input": [
      "fit_results = gta.fit()"
     ],
     "language": "python",
     "metadata": {},
     "outputs": [
      {
       "output_type": "stream",
       "stream": "stderr",
       "text": [
        "2016-04-19 15:25:52 INFO     GTAnalysis.fit(): Starting fit.\n"
       ]
      },
      {
       "output_type": "stream",
       "stream": "stderr",
       "text": [
        "2016-04-19 15:26:55 INFO     GTAnalysis.fit(): Fit returned successfully.\n"
       ]
      },
      {
       "output_type": "stream",
       "stream": "stderr",
       "text": [
        "2016-04-19 15:26:55 INFO     GTAnalysis.fit(): Fit Quality: 3 LogLike:   -50240.775 DeltaLogLike:      271.635\n"
       ]
      }
     ],
     "prompt_number": 13
    },
    {
     "cell_type": "markdown",
     "metadata": {},
     "source": [
      "The dictionary returned by the fit method returns a variety of diagnostic information about the fit including the fit quality, the relative improvement in the likelihood, and the correlations among the fit parameters.  We can inspect the results of the fit by printing the source object for PG1553."
     ]
    },
    {
     "cell_type": "code",
     "collapsed": false,
     "input": [
      "print('Fit Quality: ',fit_results['fit_quality'])\n",
      "print(gta.roi['3FGL J1555.7+1111'])"
     ],
     "language": "python",
     "metadata": {},
     "outputs": [
      {
       "output_type": "stream",
       "stream": "stdout",
       "text": [
        "('Fit Quality: ', 3)\n",
        "Name           : 3FGL J1555.7+1111\n",
        "Associations   : ['3FGL J1555.7+1111', 'PG 1553+113', '1FHL J1555.7+1111', '2FGL J1555.7+1111']\n",
        "RA/DEC         :    238.936/    11.194\n",
        "GLON/GLAT      :     21.918/    43.960\n",
        "TS             : 3004.00\n",
        "Npred          : 1115.62\n",
        "Flux           : 6.157e-08 +/- 4.25e-09\n",
        "EnergyFlux     : 0.0001963 +/-  2.1e-05\n",
        "SpatialModel   : PointSource\n",
        "SpectrumType   : LogParabola\n",
        "Spectral Parameters\n",
        "alpha          :       1.53 +/-        nan\n",
        "beta           :    0.04392 +/-        nan\n",
        "norm           :  6.112e-12 +/-  2.968e-13\n",
        "Eb             :       1491 +/-        nan\n"
       ]
      }
     ],
     "prompt_number": 14
    },
    {
     "cell_type": "markdown",
     "metadata": {},
     "source": [
      "You can then save the state of the roi to an output file for reference later.  The write_roi function does this.  The first argument is a string that will be prepended to the names of the output files generated by this method."
     ]
    },
    {
     "cell_type": "code",
     "collapsed": false,
     "input": [
      "gta.write_roi('fit0')"
     ],
     "language": "python",
     "metadata": {},
     "outputs": [
      {
       "output_type": "stream",
       "stream": "stderr",
       "text": [
        "2016-04-19 15:26:55 INFO     GTBinnedAnalysis.write_xml(): Writing /nfs/slac/g/ki/ki10/mdwood/fermipy-extra/notebooks/pg1553/fit0_00.xml...\n"
       ]
      },
      {
       "output_type": "stream",
       "stream": "stderr",
       "text": [
        "2016-04-19 15:26:56 INFO     GTBinnedAnalysis.write_model_map(): Generating model map for component 00.\n"
       ]
      },
      {
       "output_type": "stream",
       "stream": "stderr",
       "text": [
        "2016-04-19 15:27:07 INFO     GTAnalysis.write_roi(): Writing /nfs/slac/g/ki/ki10/mdwood/fermipy-extra/notebooks/pg1553/fit0.npy...\n"
       ]
      },
      {
       "output_type": "stream",
       "stream": "stderr",
       "text": [
        "2016-04-19 15:27:07 INFO     GTAnalysis.write_roi(): Writing /nfs/slac/g/ki/ki10/mdwood/fermipy-extra/notebooks/pg1553/fit0.yaml...\n"
       ]
      }
     ],
     "prompt_number": 15
    },
    {
     "cell_type": "markdown",
     "metadata": {},
     "source": [
      "There are a lot of diagnostic plots also saved at the same time.  "
     ]
    },
    {
     "cell_type": "code",
     "collapsed": false,
     "input": [
      "ls -l pg1553/*.png"
     ],
     "language": "python",
     "metadata": {},
     "outputs": [
      {
       "output_type": "stream",
       "stream": "stdout",
       "text": [
        "-rw-r--r-- 1 mdwood gl 20371 Apr 18 12:10 \u001b[0m\u001b[01;35mpg1553/3fgl_j1555.7+1111_sed.png\u001b[0m\r\n",
        "-rw-r--r-- 1 mdwood gl 27964 Apr 18 12:10 \u001b[01;35mpg1553/3fgl_j1555.7+1111_sedlnl.png\u001b[0m\r\n",
        "-rw-r--r-- 1 mdwood gl 48730 Apr 19 15:27 \u001b[01;35mpg1553/fit0_counts_map_2.000_5.477.png\u001b[0m\r\n",
        "-rw-r--r-- 1 mdwood gl 19486 Apr 19 15:27 \u001b[01;35mpg1553/fit0_counts_map_xproj_2.000_5.477.png\u001b[0m\r\n",
        "-rw-r--r-- 1 mdwood gl 19766 Apr 19 15:27 \u001b[01;35mpg1553/fit0_counts_map_yproj_2.000_5.477.png\u001b[0m\r\n",
        "-rw-r--r-- 1 mdwood gl 41696 Apr 19 15:27 \u001b[01;35mpg1553/fit0_counts_spectrum.png\u001b[0m\r\n",
        "-rw-r--r-- 1 mdwood gl 40454 Apr 19 15:27 \u001b[01;35mpg1553/fit0_model_map_2.000_5.477.png\u001b[0m\r\n",
        "\u001b[m"
       ]
      }
     ],
     "prompt_number": 16
    },
    {
     "cell_type": "code",
     "collapsed": false,
     "input": [
      "from IPython.display import Image, display\n",
      "from glob import glob"
     ],
     "language": "python",
     "metadata": {},
     "outputs": [],
     "prompt_number": 17
    },
    {
     "cell_type": "code",
     "collapsed": false,
     "input": [
      "pngs = glob('pg1553/*.png')"
     ],
     "language": "python",
     "metadata": {},
     "outputs": [],
     "prompt_number": 18
    },
    {
     "cell_type": "code",
     "collapsed": false,
     "input": [
      "for png in pngs:\n",
      "    my_image = Image(png)\n",
      "    display(my_image)"
     ],
     "language": "python",
     "metadata": {
      "scrolled": false
     },
     "outputs": [
      {
       "output_type": "display_data",
       "png": "[encoded data removed]",
       "text": [
        "<IPython.core.display.Image object>"
       ]
      },
      {
       "output_type": "display_data",
       "png": "[encoded data removed]",
       "text": [
        "<IPython.core.display.Image object>"
       ]
      },
      {
       "output_type": "display_data",
       "png": "[encoded data removed]",
       "text": [
        "<IPython.core.display.Image object>"
       ]
      },
      {
       "output_type": "display_data",
       "png": "[encoded data removed]",
       "text": [
        "<IPython.core.display.Image object>"
       ]
      },
      {
       "output_type": "display_data",
       "png": "[encoded data removed]",
       "text": [
        "<IPython.core.display.Image object>"
       ]
      },
      {
       "output_type": "display_data",
       "png": "[encoded data removed]",
       "text": [
        "<IPython.core.display.Image object>"
       ]
      },
      {
       "output_type": "display_data",
       "png": "[encoded data removed]",
       "text": [
        "<IPython.core.display.Image object>"
       ]
      }
     ],
     "prompt_number": 19
    },
    {
     "cell_type": "markdown",
     "metadata": {},
     "source": [
      "### Reading in the results\n",
      "\n",
      "Since the results are saved, you can load them back up at any point (you can also get to these within python).  Here we retrieve the analysis results from the output numpy file. "
     ]
    },
    {
     "cell_type": "code",
     "collapsed": false,
     "input": [
      "c = np.load('pg1553/fit0.npy').flat[0]"
     ],
     "language": "python",
     "metadata": {},
     "outputs": [],
     "prompt_number": 20
    },
    {
     "cell_type": "markdown",
     "metadata": {},
     "source": [
      "Here's all the info that you have access to."
     ]
    },
    {
     "cell_type": "code",
     "collapsed": false,
     "input": [
      "c['sources']['3FGL J1555.7+1111'].keys()"
     ],
     "language": "python",
     "metadata": {
      "scrolled": false
     },
     "outputs": [
      {
       "output_type": "pyout",
       "prompt_number": 21,
       "text": [
        "['eflux100',\n",
        " 'Source_Name',\n",
        " 'flux10000',\n",
        " 'flux100_ul95',\n",
        " 'spatial_pars',\n",
        " 'SpatialType',\n",
        " 'radec',\n",
        " 'flux10000_ul95',\n",
        " 'flux100',\n",
        " 'localize',\n",
        " 'dfde100_index',\n",
        " 'offset_dec',\n",
        " 'flux',\n",
        " 'dfde1000',\n",
        " 'flux_ul95',\n",
        " 'ts',\n",
        " 'class',\n",
        " 'filefunction',\n",
        " 'lnlprofile',\n",
        " 'params',\n",
        " 'ra',\n",
        " 'dfde100',\n",
        " 'eflux10000',\n",
        " 'offset_ra',\n",
        " 'offset_glat',\n",
        " 'Spatial_Filename',\n",
        " 'SpatialModel',\n",
        " 'offset_glon',\n",
        " 'glon',\n",
        " 'model_flux',\n",
        " 'SpatialWidth',\n",
        " 'eflux1000',\n",
        " 'correlation',\n",
        " 'DEJ2000',\n",
        " 'eflux',\n",
        " 'glat',\n",
        " 'dfde',\n",
        " 'covar',\n",
        " 'SpectrumType',\n",
        " 'Npred',\n",
        " 'assoc',\n",
        " 'eflux10000_ul95',\n",
        " 'spectral_pars',\n",
        " 'offset',\n",
        " 'eflux100_ul95',\n",
        " 'dfde10000',\n",
        " 'dfde1000_index',\n",
        " 'eflux1000_ul95',\n",
        " 'name',\n",
        " 'flux1000_ul95',\n",
        " 'flux1000',\n",
        " 'SourceType',\n",
        " 'extension',\n",
        " 'model_counts',\n",
        " 'catalog',\n",
        " 'eflux_ul95',\n",
        " 'RAJ2000',\n",
        " 'sed',\n",
        " 'pivot_energy',\n",
        " 'dec',\n",
        " 'dfde10000_index']"
       ]
      }
     ],
     "prompt_number": 21
    },
    {
     "cell_type": "markdown",
     "metadata": {},
     "source": [
      "Let's take a look at the flux, spectral parameters, and TS."
     ]
    },
    {
     "cell_type": "code",
     "collapsed": false,
     "input": [
      "c['sources']['3FGL J1555.7+1111']['flux']"
     ],
     "language": "python",
     "metadata": {},
     "outputs": [
      {
       "output_type": "pyout",
       "prompt_number": 22,
       "text": [
        "array([  6.15709418e-08,   4.25340385e-09])"
       ]
      }
     ],
     "prompt_number": 22
    },
    {
     "cell_type": "code",
     "collapsed": false,
     "input": [
      "c['sources']['3FGL J1555.7+1111']['params']"
     ],
     "language": "python",
     "metadata": {},
     "outputs": [
      {
       "output_type": "pyout",
       "prompt_number": 23,
       "text": [
        "{'Eb': array([ 1491.38049316,            nan]),\n",
        " 'alpha': array([ 1.53040829,         nan]),\n",
        " 'beta': array([ 0.04391581,         nan]),\n",
        " 'norm': array([  6.11195779e-12,   2.96843868e-13])}"
       ]
      }
     ],
     "prompt_number": 23
    },
    {
     "cell_type": "code",
     "collapsed": false,
     "input": [
      "c['sources']['3FGL J1555.7+1111']['ts']"
     ],
     "language": "python",
     "metadata": {},
     "outputs": [
      {
       "output_type": "pyout",
       "prompt_number": 24,
       "text": [
        "3003.9973096750764"
       ]
      }
     ],
     "prompt_number": 24
    },
    {
     "cell_type": "markdown",
     "metadata": {},
     "source": [
      "The SED is in there as well.  We can plot it."
     ]
    },
    {
     "cell_type": "code",
     "collapsed": true,
     "input": [
      "E = np.array(c['sources']['3FGL J1555.7+1111']['model_flux']['ecenter'])\n",
      "dfde = np.array(c['sources']['3FGL J1555.7+1111']['model_flux']['dfde'])\n",
      "dfde_hi = np.array(c['sources']['3FGL J1555.7+1111']['model_flux']['dfde_hi'])\n",
      "dfde_lo = np.array(c['sources']['3FGL J1555.7+1111']['model_flux']['dfde_lo'])"
     ],
     "language": "python",
     "metadata": {},
     "outputs": [],
     "prompt_number": 25
    },
    {
     "cell_type": "code",
     "collapsed": false,
     "input": [
      "plt.loglog(10**E, (E**2)*dfde, 'k--')\n",
      "plt.loglog(10**E, (E**2)*dfde_hi, 'k')\n",
      "plt.loglog(10**E, (E**2)*dfde_lo, 'k')\n",
      "plt.xlabel('E [MeV]')\n",
      "plt.ylabel(r'E$^2$ dNdE [MeV cm$^{-2}$ s$^{-1}$]')\n",
      "plt.show()"
     ],
     "language": "python",
     "metadata": {},
     "outputs": [
      {
       "output_type": "display_data",
       "png": "[encoded data removed]",
       "text": [
        "<matplotlib.figure.Figure at 0x7f42b82fde10>"
       ]
      }
     ],
     "prompt_number": 26
    },
    {
     "cell_type": "markdown",
     "metadata": {},
     "source": [
      "If you want SED points, there's a function for that.  There are lots of options for this which you can set in the config file or from keyword arguments of the function itself."
     ]
    },
    {
     "cell_type": "code",
     "collapsed": false,
     "input": [
      "sed = gta.sed('3FGL J1555.7+1111')"
     ],
     "language": "python",
     "metadata": {},
     "outputs": [
      {
       "output_type": "stream",
       "stream": "stderr",
       "text": [
        "2016-04-19 15:27:21 INFO     GTAnalysis.sed(): Computing SED for 3FGL J1555.7+1111\n"
       ]
      },
      {
       "output_type": "stream",
       "stream": "stderr",
       "text": [
        "2016-04-19 15:29:55 INFO     GTAnalysis.sed(): Finished SED\n"
       ]
      }
     ],
     "prompt_number": 27
    },
    {
     "cell_type": "markdown",
     "metadata": {},
     "source": [
      "You can save the state to the yaml file or you can just access it directly.  This is also the way to get at the dictionary for any individual source."
     ]
    },
    {
     "cell_type": "code",
     "collapsed": false,
     "input": [
      "src = gta.roi['3FGL J1555.7+1111']"
     ],
     "language": "python",
     "metadata": {},
     "outputs": [],
     "prompt_number": 28
    },
    {
     "cell_type": "code",
     "collapsed": false,
     "input": [
      "plt.loglog(10**E, dfde, 'k--')\n",
      "plt.loglog(10**E, dfde_hi, 'k')\n",
      "plt.loglog(10**E, dfde_lo, 'k')\n",
      "plt.errorbar(10**np.array(src.data['sed']['ecenter'])\n",
      "             ,src.data['sed']['dfde'], \n",
      "             yerr=src.data['sed']['dfde_err'], fmt ='o')\n",
      "plt.xlabel('E [MeV]')\n",
      "plt.ylabel(r'dNdE [cm$^{-2}$ s$^{-1}$ MeV$^{-1}$]')\n",
      "plt.show()"
     ],
     "language": "python",
     "metadata": {
      "scrolled": false
     },
     "outputs": [
      {
       "output_type": "display_data",
       "png": "[encoded data removed]",
       "text": [
        "<matplotlib.figure.Figure at 0x7f42bbc134d0>"
       ]
      }
     ],
     "prompt_number": 29
    },
    {
     "cell_type": "markdown",
     "metadata": {},
     "source": [
      "Looks like those last two points should be upper limits.  Let's plot those instead."
     ]
    },
    {
     "cell_type": "code",
     "collapsed": false,
     "input": [
      "plt.loglog(10**E, dfde, 'k--')\n",
      "plt.loglog(10**E, dfde_hi, 'k')\n",
      "plt.loglog(10**E, dfde_lo, 'k')\n",
      "plt.errorbar(10**np.array(src.data['sed']['ecenter'][:-2])\n",
      "             ,src.data['sed']['dfde'][:-2], \n",
      "             yerr=src.data['sed']['dfde_err'][:-2], fmt ='o')\n",
      "plt.plot(10**np.array(src.data['sed']['ecenter'][-2:])\n",
      "             ,src.data['sed']['dfde_ul95'][-2:], 'o')\n",
      "plt.xlabel('E [MeV]')\n",
      "plt.ylabel(r'dNdE [cm$^{-2}$ s$^{-1}$ MeV$^{-1}$]')\n",
      "plt.show()"
     ],
     "language": "python",
     "metadata": {
      "scrolled": false
     },
     "outputs": [
      {
       "output_type": "display_data",
       "png": "[encoded data removed]",
       "text": [
        "<matplotlib.figure.Figure at 0x7f42b867e650>"
       ]
      }
     ],
     "prompt_number": 30
    },
    {
     "cell_type": "markdown",
     "metadata": {},
     "source": [
      "### Summary\n",
      "\n",
      "There is a lot of other functionality and you should look through the docs for more details.  You can also inspect the GTAnalysis object for some of these (like TS Maps, extension tests, and using event types).  Following threads cover some of the more advanced functionality of fermipy:\n",
      "\n",
      "* [IC443](ic443.ipynb) : Analysis to measure the angular extension of the SNR IC443.\n",
      "* [Draco](draco.ipynb) : DM upper limit analysis of the Draco dwarf spheroidal galaxy."
     ]
    }
   ],
   "metadata": {}
  }
 ]
}